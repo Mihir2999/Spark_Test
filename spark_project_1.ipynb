{
 "cells": [
  {
   "cell_type": "code",
   "execution_count": 3,
   "id": "bb27fcb5",
   "metadata": {},
   "outputs": [],
   "source": [
    "import pandas as pd\n",
    "from pyspark.sql import SparkSession\n",
    "from dotenv import load_dotenv"
   ]
  },
  {
   "cell_type": "code",
   "execution_count": 4,
   "id": "fa3ee861",
   "metadata": {},
   "outputs": [],
   "source": [
    "spark = SparkSession.builder.appName('Practise').getOrCreate()"
   ]
  },
  {
   "cell_type": "code",
   "execution_count": 5,
   "id": "9f881ace",
   "metadata": {},
   "outputs": [
    {
     "data": {
      "text/html": [
       "\n",
       "            <div>\n",
       "                <p><b>SparkSession - in-memory</b></p>\n",
       "                \n",
       "        <div>\n",
       "            <p><b>SparkContext</b></p>\n",
       "\n",
       "            <p><a href=\"http://NUR-564ZVT3.ad.ufl.edu:4040\">Spark UI</a></p>\n",
       "\n",
       "            <dl>\n",
       "              <dt>Version</dt>\n",
       "                <dd><code>v3.5.6</code></dd>\n",
       "              <dt>Master</dt>\n",
       "                <dd><code>local[*]</code></dd>\n",
       "              <dt>AppName</dt>\n",
       "                <dd><code>Practise</code></dd>\n",
       "            </dl>\n",
       "        </div>\n",
       "        \n",
       "            </div>\n",
       "        "
      ],
      "text/plain": [
       "<pyspark.sql.session.SparkSession at 0x29add61c830>"
      ]
     },
     "execution_count": 5,
     "metadata": {},
     "output_type": "execute_result"
    }
   ],
   "source": [
    "spark"
   ]
  },
  {
   "cell_type": "code",
   "execution_count": 25,
   "id": "b464eeab",
   "metadata": {},
   "outputs": [],
   "source": [
    "df_spark = spark.read.csv('healthcare_dataset.csv',header=True, inferSchema = True)"
   ]
  },
  {
   "cell_type": "code",
   "execution_count": 26,
   "id": "ba5ffab3",
   "metadata": {},
   "outputs": [
    {
     "name": "stdout",
     "output_type": "stream",
     "text": [
      "+-------------------+---+------+----------+-----------------+-----------------+----------------+--------------------+------------------+------------------+-----------+--------------+--------------+-----------+------------+\n",
      "|               Name|Age|Gender|Blood Type|Medical Condition|Date of Admission|          Doctor|            Hospital|Insurance Provider|    Billing Amount|Room Number|Admission Type|Discharge Date| Medication|Test Results|\n",
      "+-------------------+---+------+----------+-----------------+-----------------+----------------+--------------------+------------------+------------------+-----------+--------------+--------------+-----------+------------+\n",
      "|      Bobby JacksOn| 30|  Male|        B-|           Cancer|       2024-01-31|   Matthew Smith|     Sons and Miller|        Blue Cross|18856.281305978155|        328|        Urgent|    2024-02-02|Paracetamol|      Normal|\n",
      "|       LesLie TErRy| 62|  Male|        A+|          Obesity|       2019-08-20| Samantha Davies|             Kim Inc|          Medicare|33643.327286577885|        265|     Emergency|    2019-08-26|  Ibuprofen|Inconclusive|\n",
      "|        DaNnY sMitH| 76|Female|        A-|          Obesity|       2022-09-22|Tiffany Mitchell|            Cook PLC|             Aetna|27955.096078842456|        205|     Emergency|    2022-10-07|    Aspirin|      Normal|\n",
      "|       andrEw waTtS| 28|Female|        O+|         Diabetes|       2020-11-18|     Kevin Wells|Hernandez Rogers ...|          Medicare| 37909.78240987528|        450|      Elective|    2020-12-18|  Ibuprofen|    Abnormal|\n",
      "|      adrIENNE bEll| 43|Female|       AB+|           Cancer|       2022-09-19|  Kathleen Hanna|         White-White|             Aetna|14238.317813937623|        458|        Urgent|    2022-10-09| Penicillin|    Abnormal|\n",
      "|      EMILY JOHNSOn| 36|  Male|        A+|           Asthma|       2023-12-20|   Taylor Newton|      Nunez-Humphrey|  UnitedHealthcare| 48145.11095104189|        389|        Urgent|    2023-12-24|  Ibuprofen|      Normal|\n",
      "|     edwArD EDWaRDs| 21|Female|       AB-|         Diabetes|       2020-11-03|     Kelly Olson|     Group Middleton|          Medicare| 19580.87234486093|        389|     Emergency|    2020-11-15|Paracetamol|Inconclusive|\n",
      "| CHrisTInA MARtinez| 20|Female|        A+|           Cancer|       2021-12-28|  Suzanne Thomas|Powell Robinson a...|             Cigna| 45820.46272159459|        277|     Emergency|    2022-01-07|Paracetamol|Inconclusive|\n",
      "|    JASmINe aGuIlaR| 82|  Male|       AB+|           Asthma|       2020-07-01| Daniel Ferguson|       Sons Rich and|             Cigna|50119.222791548505|        316|      Elective|    2020-07-14|    Aspirin|    Abnormal|\n",
      "|   ChRISTopher BerG| 58|Female|       AB-|           Cancer|       2021-05-23|     Heather Day|      Padilla-Walker|  UnitedHealthcare| 19784.63106221073|        249|      Elective|    2021-06-22|Paracetamol|Inconclusive|\n",
      "|   mIchElLe daniELs| 72|  Male|        O+|           Cancer|       2020-04-19|     John Duncan|     Schaefer-Porter|          Medicare|12576.795609050234|        394|        Urgent|    2020-04-22|Paracetamol|      Normal|\n",
      "|     aaRon MARtiNeZ| 38|Female|        A-|     Hypertension|       2023-08-13|    Douglas Mayo|         Lyons-Blair|          Medicare| 7999.586879604188|        288|        Urgent|    2023-09-05|    Lipitor|Inconclusive|\n",
      "|      connOR HANsEn| 75|Female|        A+|         Diabetes|       2019-12-12|Kenneth Fletcher|Powers Miller, an...|             Cigna| 43282.28335770435|        134|     Emergency|    2019-12-28| Penicillin|    Abnormal|\n",
      "|       rObeRt bAuer| 68|Female|       AB+|           Asthma|       2020-05-22| Theresa Freeman|    Rivera-Gutierrez|  UnitedHealthcare|33207.706633729606|        309|        Urgent|    2020-06-19|    Lipitor|      Normal|\n",
      "|       bROOkE brady| 44|Female|       AB+|           Cancer|       2021-10-08| Roberta Stewart|     Morris-Arellano|  UnitedHealthcare|40701.599227308754|        182|        Urgent|    2021-10-13|Paracetamol|      Normal|\n",
      "| MS. nAtalIE gAMble| 46|Female|       AB-|          Obesity|       2023-01-01| Maria Dougherty|      Cline-Williams|        Blue Cross|12263.357425021362|        465|      Elective|    2023-01-11|    Aspirin|Inconclusive|\n",
      "|      haley perkins| 63|Female|        A+|        Arthritis|       2020-06-23|   Erica Spencer|     Cervantes-Wells|  UnitedHealthcare|24499.847903736576|        114|      Elective|    2020-07-14|Paracetamol|      Normal|\n",
      "|mRS. jamiE cAMPBELl| 38|  Male|       AB-|          Obesity|       2020-03-08|      Justin Kim|Torres, and Harri...|             Cigna|17440.465444124675|        449|        Urgent|    2020-04-02|Paracetamol|    Abnormal|\n",
      "|       LuKE BuRgEss| 34|Female|        A-|     Hypertension|       2021-03-04|Justin Moore Jr.|         Houston PLC|        Blue Cross| 18843.02301783416|        260|      Elective|    2021-03-14|    Aspirin|    Abnormal|\n",
      "|     dANIEL schmIdt| 63|  Male|        B+|           Asthma|       2022-11-15| Denise Galloway|         Hammond Ltd|             Cigna|23762.203579059587|        465|      Elective|    2022-11-22| Penicillin|      Normal|\n",
      "+-------------------+---+------+----------+-----------------+-----------------+----------------+--------------------+------------------+------------------+-----------+--------------+--------------+-----------+------------+\n",
      "only showing top 20 rows\n",
      "\n"
     ]
    }
   ],
   "source": [
    "df_spark.show()"
   ]
  },
  {
   "cell_type": "code",
   "execution_count": 27,
   "id": "3068133f",
   "metadata": {},
   "outputs": [
    {
     "data": {
      "text/plain": [
       "pyspark.sql.dataframe.DataFrame"
      ]
     },
     "execution_count": 27,
     "metadata": {},
     "output_type": "execute_result"
    }
   ],
   "source": [
    "type(df_spark)"
   ]
  },
  {
   "cell_type": "code",
   "execution_count": 32,
   "id": "24b777ca",
   "metadata": {},
   "outputs": [
    {
     "data": {
      "text/plain": [
       "[Row(Name='Bobby JacksOn', Age=30, Gender='Male', Blood Type='B-', Medical Condition='Cancer', Date of Admission=datetime.date(2024, 1, 31), Doctor='Matthew Smith', Hospital='Sons and Miller', Insurance Provider='Blue Cross', Billing Amount=18856.281305978155, Room Number=328, Admission Type='Urgent', Discharge Date=datetime.date(2024, 2, 2), Medication='Paracetamol', Test Results='Normal')]"
      ]
     },
     "execution_count": 32,
     "metadata": {},
     "output_type": "execute_result"
    }
   ],
   "source": [
    "df_spark.head(1)"
   ]
  },
  {
   "cell_type": "code",
   "execution_count": 24,
   "id": "bd60b872",
   "metadata": {},
   "outputs": [
    {
     "name": "stdout",
     "output_type": "stream",
     "text": [
      "root\n",
      " |-- Name: string (nullable = true)\n",
      " |-- Age: integer (nullable = true)\n",
      " |-- Gender: string (nullable = true)\n",
      " |-- Blood Type: string (nullable = true)\n",
      " |-- Medical Condition: string (nullable = true)\n",
      " |-- Date of Admission: date (nullable = true)\n",
      " |-- Doctor: string (nullable = true)\n",
      " |-- Hospital: string (nullable = true)\n",
      " |-- Insurance Provider: string (nullable = true)\n",
      " |-- Billing Amount: double (nullable = true)\n",
      " |-- Room Number: integer (nullable = true)\n",
      " |-- Admission Type: string (nullable = true)\n",
      " |-- Discharge Date: date (nullable = true)\n",
      " |-- Medication: string (nullable = true)\n",
      " |-- Test Results: string (nullable = true)\n",
      "\n"
     ]
    }
   ],
   "source": [
    "####Check the Schema\n",
    "df_spark.printSchema()"
   ]
  },
  {
   "cell_type": "code",
   "execution_count": 31,
   "id": "c7374431",
   "metadata": {},
   "outputs": [
    {
     "data": {
      "text/plain": [
       "['Name',\n",
       " 'Age',\n",
       " 'Gender',\n",
       " 'Blood Type',\n",
       " 'Medical Condition',\n",
       " 'Date of Admission',\n",
       " 'Doctor',\n",
       " 'Hospital',\n",
       " 'Insurance Provider',\n",
       " 'Billing Amount',\n",
       " 'Room Number',\n",
       " 'Admission Type',\n",
       " 'Discharge Date',\n",
       " 'Medication',\n",
       " 'Test Results']"
      ]
     },
     "execution_count": 31,
     "metadata": {},
     "output_type": "execute_result"
    }
   ],
   "source": [
    "#### Getting the column names\n",
    "df_spark.columns"
   ]
  },
  {
   "cell_type": "code",
   "execution_count": 44,
   "id": "088acb64",
   "metadata": {},
   "outputs": [
    {
     "name": "stdout",
     "output_type": "stream",
     "text": [
      "+-------------+------+\n",
      "|         Name|Gender|\n",
      "+-------------+------+\n",
      "|Bobby JacksOn|  Male|\n",
      "| LesLie TErRy|  Male|\n",
      "|  DaNnY sMitH|Female|\n",
      "+-------------+------+\n",
      "only showing top 3 rows\n",
      "\n"
     ]
    }
   ],
   "source": [
    "###### Selecting particular columns ###### \n",
    "df_spark.select(['Name', 'Gender']).show(3)"
   ]
  },
  {
   "cell_type": "code",
   "execution_count": 52,
   "id": "dca55392",
   "metadata": {},
   "outputs": [
    {
     "name": "stdout",
     "output_type": "stream",
     "text": [
      "+-------+------------+------------------+------+----------+-----------------+-------------+--------------------+------------------+-------------------+------------------+--------------+----------+------------+\n",
      "|summary|        Name|               Age|Gender|Blood Type|Medical Condition|       Doctor|            Hospital|Insurance Provider|     Billing Amount|       Room Number|Admission Type|Medication|Test Results|\n",
      "+-------+------------+------------------+------+----------+-----------------+-------------+--------------------+------------------+-------------------+------------------+--------------+----------+------------+\n",
      "|  count|       55500|             55500| 55500|     55500|            55500|        55500|               55500|             55500|              55500|             55500|         55500|     55500|       55500|\n",
      "|   mean|        NULL| 51.53945945945946|  NULL|      NULL|             NULL|         NULL|                NULL|              NULL| 25539.316097211864| 301.1348288288288|          NULL|      NULL|        NULL|\n",
      "| stddev|        NULL|19.602453808514408|  NULL|      NULL|             NULL|         NULL|                NULL|              NULL| 14211.454430864416|115.24306870097345|          NULL|      NULL|        NULL|\n",
      "|    min|AARON DuncAn|                13|Female|        A+|        Arthritis|Aaron Acevedo|          Abbott Inc|             Aetna|-2008.4921398591305|               101|      Elective|   Aspirin|    Abnormal|\n",
      "|    max|zachary WALl|                89|  Male|        O-|          Obesity|  Zoe Wallace|and Zuniga Thomps...|  UnitedHealthcare| 52764.276736469175|               500|        Urgent|Penicillin|      Normal|\n",
      "+-------+------------+------------------+------+----------+-----------------+-------------+--------------------+------------------+-------------------+------------------+--------------+----------+------------+\n",
      "\n"
     ]
    }
   ],
   "source": [
    "###### Decribe option similar to pandas ######\n",
    "df_spark.describe().show()"
   ]
  },
  {
   "cell_type": "code",
   "execution_count": 49,
   "id": "8b35065e",
   "metadata": {},
   "outputs": [],
   "source": [
    "############## Adding Columns ##############\n",
    "df_spark = df_spark.withColumn('Age_after_2_years', df_spark['Age'] + 2)"
   ]
  },
  {
   "cell_type": "code",
   "execution_count": 51,
   "id": "f0b4f22d",
   "metadata": {},
   "outputs": [],
   "source": [
    "######### dropping the columns #########\n",
    "df_spark = df_spark.drop('Age_after_2_years')"
   ]
  },
  {
   "cell_type": "code",
   "execution_count": 54,
   "id": "16015f56",
   "metadata": {},
   "outputs": [
    {
     "name": "stdout",
     "output_type": "stream",
     "text": [
      "+-------------------+-------+------+----------+-----------------+-----------------+----------------+--------------------+------------------+------------------+-----------+--------------+--------------+-----------+------------+\n",
      "|               Name|New_Age|Gender|Blood Type|Medical Condition|Date of Admission|          Doctor|            Hospital|Insurance Provider|    Billing Amount|Room Number|Admission Type|Discharge Date| Medication|Test Results|\n",
      "+-------------------+-------+------+----------+-----------------+-----------------+----------------+--------------------+------------------+------------------+-----------+--------------+--------------+-----------+------------+\n",
      "|      Bobby JacksOn|     30|  Male|        B-|           Cancer|       2024-01-31|   Matthew Smith|     Sons and Miller|        Blue Cross|18856.281305978155|        328|        Urgent|    2024-02-02|Paracetamol|      Normal|\n",
      "|       LesLie TErRy|     62|  Male|        A+|          Obesity|       2019-08-20| Samantha Davies|             Kim Inc|          Medicare|33643.327286577885|        265|     Emergency|    2019-08-26|  Ibuprofen|Inconclusive|\n",
      "|        DaNnY sMitH|     76|Female|        A-|          Obesity|       2022-09-22|Tiffany Mitchell|            Cook PLC|             Aetna|27955.096078842456|        205|     Emergency|    2022-10-07|    Aspirin|      Normal|\n",
      "|       andrEw waTtS|     28|Female|        O+|         Diabetes|       2020-11-18|     Kevin Wells|Hernandez Rogers ...|          Medicare| 37909.78240987528|        450|      Elective|    2020-12-18|  Ibuprofen|    Abnormal|\n",
      "|      adrIENNE bEll|     43|Female|       AB+|           Cancer|       2022-09-19|  Kathleen Hanna|         White-White|             Aetna|14238.317813937623|        458|        Urgent|    2022-10-09| Penicillin|    Abnormal|\n",
      "|      EMILY JOHNSOn|     36|  Male|        A+|           Asthma|       2023-12-20|   Taylor Newton|      Nunez-Humphrey|  UnitedHealthcare| 48145.11095104189|        389|        Urgent|    2023-12-24|  Ibuprofen|      Normal|\n",
      "|     edwArD EDWaRDs|     21|Female|       AB-|         Diabetes|       2020-11-03|     Kelly Olson|     Group Middleton|          Medicare| 19580.87234486093|        389|     Emergency|    2020-11-15|Paracetamol|Inconclusive|\n",
      "| CHrisTInA MARtinez|     20|Female|        A+|           Cancer|       2021-12-28|  Suzanne Thomas|Powell Robinson a...|             Cigna| 45820.46272159459|        277|     Emergency|    2022-01-07|Paracetamol|Inconclusive|\n",
      "|    JASmINe aGuIlaR|     82|  Male|       AB+|           Asthma|       2020-07-01| Daniel Ferguson|       Sons Rich and|             Cigna|50119.222791548505|        316|      Elective|    2020-07-14|    Aspirin|    Abnormal|\n",
      "|   ChRISTopher BerG|     58|Female|       AB-|           Cancer|       2021-05-23|     Heather Day|      Padilla-Walker|  UnitedHealthcare| 19784.63106221073|        249|      Elective|    2021-06-22|Paracetamol|Inconclusive|\n",
      "|   mIchElLe daniELs|     72|  Male|        O+|           Cancer|       2020-04-19|     John Duncan|     Schaefer-Porter|          Medicare|12576.795609050234|        394|        Urgent|    2020-04-22|Paracetamol|      Normal|\n",
      "|     aaRon MARtiNeZ|     38|Female|        A-|     Hypertension|       2023-08-13|    Douglas Mayo|         Lyons-Blair|          Medicare| 7999.586879604188|        288|        Urgent|    2023-09-05|    Lipitor|Inconclusive|\n",
      "|      connOR HANsEn|     75|Female|        A+|         Diabetes|       2019-12-12|Kenneth Fletcher|Powers Miller, an...|             Cigna| 43282.28335770435|        134|     Emergency|    2019-12-28| Penicillin|    Abnormal|\n",
      "|       rObeRt bAuer|     68|Female|       AB+|           Asthma|       2020-05-22| Theresa Freeman|    Rivera-Gutierrez|  UnitedHealthcare|33207.706633729606|        309|        Urgent|    2020-06-19|    Lipitor|      Normal|\n",
      "|       bROOkE brady|     44|Female|       AB+|           Cancer|       2021-10-08| Roberta Stewart|     Morris-Arellano|  UnitedHealthcare|40701.599227308754|        182|        Urgent|    2021-10-13|Paracetamol|      Normal|\n",
      "| MS. nAtalIE gAMble|     46|Female|       AB-|          Obesity|       2023-01-01| Maria Dougherty|      Cline-Williams|        Blue Cross|12263.357425021362|        465|      Elective|    2023-01-11|    Aspirin|Inconclusive|\n",
      "|      haley perkins|     63|Female|        A+|        Arthritis|       2020-06-23|   Erica Spencer|     Cervantes-Wells|  UnitedHealthcare|24499.847903736576|        114|      Elective|    2020-07-14|Paracetamol|      Normal|\n",
      "|mRS. jamiE cAMPBELl|     38|  Male|       AB-|          Obesity|       2020-03-08|      Justin Kim|Torres, and Harri...|             Cigna|17440.465444124675|        449|        Urgent|    2020-04-02|Paracetamol|    Abnormal|\n",
      "|       LuKE BuRgEss|     34|Female|        A-|     Hypertension|       2021-03-04|Justin Moore Jr.|         Houston PLC|        Blue Cross| 18843.02301783416|        260|      Elective|    2021-03-14|    Aspirin|    Abnormal|\n",
      "|     dANIEL schmIdt|     63|  Male|        B+|           Asthma|       2022-11-15| Denise Galloway|         Hammond Ltd|             Cigna|23762.203579059587|        465|      Elective|    2022-11-22| Penicillin|      Normal|\n",
      "+-------------------+-------+------+----------+-----------------+-----------------+----------------+--------------------+------------------+------------------+-----------+--------------+--------------+-----------+------------+\n",
      "only showing top 20 rows\n",
      "\n"
     ]
    }
   ],
   "source": [
    "######### Renaming the columns #########\n",
    "df_spark.withColumnRenamed('Age', 'New_Age').show()"
   ]
  },
  {
   "cell_type": "markdown",
   "id": "1cb85e2f",
   "metadata": {},
   "source": [
    "#### Handling Missing Values"
   ]
  },
  {
   "cell_type": "code",
   "execution_count": 55,
   "id": "c9af51fb",
   "metadata": {},
   "outputs": [
    {
     "name": "stdout",
     "output_type": "stream",
     "text": [
      "+-------------+---+------+----------+-----------------+-----------------+----------------+---------------+------------------+------------------+-----------+--------------+--------------+-----------+------------+\n",
      "|         Name|Age|Gender|Blood Type|Medical Condition|Date of Admission|          Doctor|       Hospital|Insurance Provider|    Billing Amount|Room Number|Admission Type|Discharge Date| Medication|Test Results|\n",
      "+-------------+---+------+----------+-----------------+-----------------+----------------+---------------+------------------+------------------+-----------+--------------+--------------+-----------+------------+\n",
      "|Bobby JacksOn| 30|  Male|        B-|           Cancer|       2024-01-31|   Matthew Smith|Sons and Miller|        Blue Cross|18856.281305978155|        328|        Urgent|    2024-02-02|Paracetamol|      Normal|\n",
      "| LesLie TErRy| 62|  Male|        A+|          Obesity|       2019-08-20| Samantha Davies|        Kim Inc|          Medicare|33643.327286577885|        265|     Emergency|    2019-08-26|  Ibuprofen|Inconclusive|\n",
      "|  DaNnY sMitH| 76|Female|        A-|          Obesity|       2022-09-22|Tiffany Mitchell|       Cook PLC|             Aetna|27955.096078842456|        205|     Emergency|    2022-10-07|    Aspirin|      Normal|\n",
      "+-------------+---+------+----------+-----------------+-----------------+----------------+---------------+------------------+------------------+-----------+--------------+--------------+-----------+------------+\n",
      "only showing top 3 rows\n",
      "\n"
     ]
    }
   ],
   "source": [
    "df_spark.show(3)"
   ]
  },
  {
   "cell_type": "code",
   "execution_count": 60,
   "id": "f4ab141e",
   "metadata": {},
   "outputs": [
    {
     "name": "stdout",
     "output_type": "stream",
     "text": [
      "Number of rows in the Table are:  55500\n",
      "Number of columns in the Table are:  15\n"
     ]
    }
   ],
   "source": [
    "print('Number of rows in the Table are: ',df_spark.count())\n",
    "print('Number of columns in the Table are: ', len(df_spark.columns))"
   ]
  },
  {
   "cell_type": "code",
   "execution_count": 61,
   "id": "3c9ccbe6",
   "metadata": {},
   "outputs": [
    {
     "name": "stdout",
     "output_type": "stream",
     "text": [
      "Number of rows in the Table are:  55500\n",
      "Number of columns in the Table are:  15\n"
     ]
    }
   ],
   "source": [
    "df_spark = df_spark.na.drop()\n",
    "print('Number of rows in the Table are: ',df_spark.count())\n",
    "print('Number of columns in the Table are: ', len(df_spark.columns))"
   ]
  },
  {
   "cell_type": "code",
   "execution_count": 63,
   "id": "e10211af",
   "metadata": {},
   "outputs": [
    {
     "name": "stdout",
     "output_type": "stream",
     "text": [
      "+-------------+---+------+----------+-----------------+-----------------+---------------+---------------+------------------+------------------+-----------+--------------+--------------+-----------+------------+\n",
      "|         Name|Age|Gender|Blood Type|Medical Condition|Date of Admission|         Doctor|       Hospital|Insurance Provider|    Billing Amount|Room Number|Admission Type|Discharge Date| Medication|Test Results|\n",
      "+-------------+---+------+----------+-----------------+-----------------+---------------+---------------+------------------+------------------+-----------+--------------+--------------+-----------+------------+\n",
      "|Bobby JacksOn| 30|  Male|        B-|           Cancer|       2024-01-31|  Matthew Smith|Sons and Miller|        Blue Cross|18856.281305978155|        328|        Urgent|    2024-02-02|Paracetamol|      Normal|\n",
      "| LesLie TErRy| 62|  Male|        A+|          Obesity|       2019-08-20|Samantha Davies|        Kim Inc|          Medicare|33643.327286577885|        265|     Emergency|    2019-08-26|  Ibuprofen|Inconclusive|\n",
      "+-------------+---+------+----------+-----------------+-----------------+---------------+---------------+------------------+------------------+-----------+--------------+--------------+-----------+------------+\n",
      "only showing top 2 rows\n",
      "\n"
     ]
    }
   ],
   "source": [
    "df_spark.na.drop(how = 'any',subset=['Name']).show(2)"
   ]
  },
  {
   "cell_type": "code",
   "execution_count": 65,
   "id": "05bebb54",
   "metadata": {},
   "outputs": [
    {
     "name": "stdout",
     "output_type": "stream",
     "text": [
      "+-------------+---+------+----------+-----------------+-----------------+----------------+---------------+------------------+------------------+-----------+--------------+--------------+-----------+------------+\n",
      "|         Name|Age|Gender|Blood Type|Medical Condition|Date of Admission|          Doctor|       Hospital|Insurance Provider|    Billing Amount|Room Number|Admission Type|Discharge Date| Medication|Test Results|\n",
      "+-------------+---+------+----------+-----------------+-----------------+----------------+---------------+------------------+------------------+-----------+--------------+--------------+-----------+------------+\n",
      "|Bobby JacksOn| 30|  Male|        B-|           Cancer|       2024-01-31|   Matthew Smith|Sons and Miller|        Blue Cross|18856.281305978155|        328|        Urgent|    2024-02-02|Paracetamol|      Normal|\n",
      "| LesLie TErRy| 62|  Male|        A+|          Obesity|       2019-08-20| Samantha Davies|        Kim Inc|          Medicare|33643.327286577885|        265|     Emergency|    2019-08-26|  Ibuprofen|Inconclusive|\n",
      "|  DaNnY sMitH| 76|Female|        A-|          Obesity|       2022-09-22|Tiffany Mitchell|       Cook PLC|             Aetna|27955.096078842456|        205|     Emergency|    2022-10-07|    Aspirin|      Normal|\n",
      "+-------------+---+------+----------+-----------------+-----------------+----------------+---------------+------------------+------------------+-----------+--------------+--------------+-----------+------------+\n",
      "only showing top 3 rows\n",
      "\n"
     ]
    }
   ],
   "source": [
    "df_spark.na.drop(how = 'any', thresh=3).show(3)"
   ]
  },
  {
   "cell_type": "code",
   "execution_count": 67,
   "id": "d10c88de",
   "metadata": {},
   "outputs": [],
   "source": [
    "from pyspark.sql import functions as F"
   ]
  },
  {
   "cell_type": "code",
   "execution_count": 68,
   "id": "16bbd6fa",
   "metadata": {},
   "outputs": [],
   "source": [
    "null_counts = df_spark.select([F.count(F.when(F.col(c).isNull(), c)).alias(c) for c in df_spark.columns])"
   ]
  },
  {
   "cell_type": "code",
   "execution_count": 69,
   "id": "d5179a58",
   "metadata": {},
   "outputs": [
    {
     "name": "stdout",
     "output_type": "stream",
     "text": [
      "+----+---+------+----------+-----------------+-----------------+------+--------+------------------+--------------+-----------+--------------+--------------+----------+------------+\n",
      "|Name|Age|Gender|Blood Type|Medical Condition|Date of Admission|Doctor|Hospital|Insurance Provider|Billing Amount|Room Number|Admission Type|Discharge Date|Medication|Test Results|\n",
      "+----+---+------+----------+-----------------+-----------------+------+--------+------------------+--------------+-----------+--------------+--------------+----------+------------+\n",
      "|   0|  0|     0|         0|                0|                0|     0|       0|                 0|             0|          0|             0|             0|         0|           0|\n",
      "+----+---+------+----------+-----------------+-----------------+------+--------+------------------+--------------+-----------+--------------+--------------+----------+------------+\n",
      "\n"
     ]
    }
   ],
   "source": [
    "null_counts.show()"
   ]
  },
  {
   "cell_type": "markdown",
   "id": "f3709c9b",
   "metadata": {},
   "source": [
    "### Filter Operations"
   ]
  },
  {
   "cell_type": "code",
   "execution_count": 70,
   "id": "ba4b38dc",
   "metadata": {},
   "outputs": [
    {
     "name": "stdout",
     "output_type": "stream",
     "text": [
      "+-------------+---+------+----------+-----------------+-----------------+---------------+---------------+------------------+------------------+-----------+--------------+--------------+-----------+------------+\n",
      "|         Name|Age|Gender|Blood Type|Medical Condition|Date of Admission|         Doctor|       Hospital|Insurance Provider|    Billing Amount|Room Number|Admission Type|Discharge Date| Medication|Test Results|\n",
      "+-------------+---+------+----------+-----------------+-----------------+---------------+---------------+------------------+------------------+-----------+--------------+--------------+-----------+------------+\n",
      "|Bobby JacksOn| 30|  Male|        B-|           Cancer|       2024-01-31|  Matthew Smith|Sons and Miller|        Blue Cross|18856.281305978155|        328|        Urgent|    2024-02-02|Paracetamol|      Normal|\n",
      "| LesLie TErRy| 62|  Male|        A+|          Obesity|       2019-08-20|Samantha Davies|        Kim Inc|          Medicare|33643.327286577885|        265|     Emergency|    2019-08-26|  Ibuprofen|Inconclusive|\n",
      "+-------------+---+------+----------+-----------------+-----------------+---------------+---------------+------------------+------------------+-----------+--------------+--------------+-----------+------------+\n",
      "only showing top 2 rows\n",
      "\n"
     ]
    }
   ],
   "source": [
    "df_spark.show(2)"
   ]
  },
  {
   "cell_type": "code",
   "execution_count": 72,
   "id": "b8100af9",
   "metadata": {},
   "outputs": [
    {
     "name": "stdout",
     "output_type": "stream",
     "text": [
      "+----------------+---+------+----------+-----------------+-----------------+----------------+---------------+------------------+------------------+-----------+--------------+--------------+-----------+------------+\n",
      "|            Name|Age|Gender|Blood Type|Medical Condition|Date of Admission|          Doctor|       Hospital|Insurance Provider|    Billing Amount|Room Number|Admission Type|Discharge Date| Medication|Test Results|\n",
      "+----------------+---+------+----------+-----------------+-----------------+----------------+---------------+------------------+------------------+-----------+--------------+--------------+-----------+------------+\n",
      "|    LesLie TErRy| 62|  Male|        A+|          Obesity|       2019-08-20| Samantha Davies|        Kim Inc|          Medicare|33643.327286577885|        265|     Emergency|    2019-08-26|  Ibuprofen|Inconclusive|\n",
      "|     DaNnY sMitH| 76|Female|        A-|          Obesity|       2022-09-22|Tiffany Mitchell|       Cook PLC|             Aetna|27955.096078842456|        205|     Emergency|    2022-10-07|    Aspirin|      Normal|\n",
      "| JASmINe aGuIlaR| 82|  Male|       AB+|           Asthma|       2020-07-01| Daniel Ferguson|  Sons Rich and|             Cigna|50119.222791548505|        316|      Elective|    2020-07-14|    Aspirin|    Abnormal|\n",
      "|ChRISTopher BerG| 58|Female|       AB-|           Cancer|       2021-05-23|     Heather Day| Padilla-Walker|  UnitedHealthcare| 19784.63106221073|        249|      Elective|    2021-06-22|Paracetamol|Inconclusive|\n",
      "|mIchElLe daniELs| 72|  Male|        O+|           Cancer|       2020-04-19|     John Duncan|Schaefer-Porter|          Medicare|12576.795609050234|        394|        Urgent|    2020-04-22|Paracetamol|      Normal|\n",
      "+----------------+---+------+----------+-----------------+-----------------+----------------+---------------+------------------+------------------+-----------+--------------+--------------+-----------+------------+\n",
      "only showing top 5 rows\n",
      "\n"
     ]
    }
   ],
   "source": [
    "##### Age less than 50 #####\n",
    "df_spark.filter(\"Age >= 50\").show(5)"
   ]
  },
  {
   "cell_type": "code",
   "execution_count": 76,
   "id": "73e72b8f",
   "metadata": {},
   "outputs": [
    {
     "name": "stdout",
     "output_type": "stream",
     "text": [
      "+----------------+---+------+----------+-----------------+-----------------+----------------+--------------+------------------+------------------+-----------+--------------+--------------+-----------+------------+\n",
      "|            Name|Age|Gender|Blood Type|Medical Condition|Date of Admission|          Doctor|      Hospital|Insurance Provider|    Billing Amount|Room Number|Admission Type|Discharge Date| Medication|Test Results|\n",
      "+----------------+---+------+----------+-----------------+-----------------+----------------+--------------+------------------+------------------+-----------+--------------+--------------+-----------+------------+\n",
      "|    LesLie TErRy| 62|  Male|        A+|          Obesity|       2019-08-20| Samantha Davies|       Kim Inc|          Medicare|33643.327286577885|        265|     Emergency|    2019-08-26|  Ibuprofen|Inconclusive|\n",
      "|     DaNnY sMitH| 76|Female|        A-|          Obesity|       2022-09-22|Tiffany Mitchell|      Cook PLC|             Aetna|27955.096078842456|        205|     Emergency|    2022-10-07|    Aspirin|      Normal|\n",
      "| JASmINe aGuIlaR| 82|  Male|       AB+|           Asthma|       2020-07-01| Daniel Ferguson| Sons Rich and|             Cigna|50119.222791548505|        316|      Elective|    2020-07-14|    Aspirin|    Abnormal|\n",
      "|ChRISTopher BerG| 58|Female|       AB-|           Cancer|       2021-05-23|     Heather Day|Padilla-Walker|  UnitedHealthcare| 19784.63106221073|        249|      Elective|    2021-06-22|Paracetamol|Inconclusive|\n",
      "+----------------+---+------+----------+-----------------+-----------------+----------------+--------------+------------------+------------------+-----------+--------------+--------------+-----------+------------+\n",
      "only showing top 4 rows\n",
      "\n"
     ]
    }
   ],
   "source": [
    "##### Age less than 50 & Blood Type == 'O+'#####\n",
    "df_spark.filter((df_spark['Age'] >= 50) & ~(df_spark['Blood Type'] == 'O+')).show(4)"
   ]
  },
  {
   "cell_type": "markdown",
   "id": "0cb5418d",
   "metadata": {},
   "source": [
    "### Groupby & Aggregate Functions"
   ]
  },
  {
   "cell_type": "code",
   "execution_count": 77,
   "id": "d1ae0258",
   "metadata": {},
   "outputs": [
    {
     "name": "stdout",
     "output_type": "stream",
     "text": [
      "root\n",
      " |-- Name: string (nullable = true)\n",
      " |-- Age: integer (nullable = true)\n",
      " |-- Gender: string (nullable = true)\n",
      " |-- Blood Type: string (nullable = true)\n",
      " |-- Medical Condition: string (nullable = true)\n",
      " |-- Date of Admission: date (nullable = true)\n",
      " |-- Doctor: string (nullable = true)\n",
      " |-- Hospital: string (nullable = true)\n",
      " |-- Insurance Provider: string (nullable = true)\n",
      " |-- Billing Amount: double (nullable = true)\n",
      " |-- Room Number: integer (nullable = true)\n",
      " |-- Admission Type: string (nullable = true)\n",
      " |-- Discharge Date: date (nullable = true)\n",
      " |-- Medication: string (nullable = true)\n",
      " |-- Test Results: string (nullable = true)\n",
      "\n"
     ]
    }
   ],
   "source": [
    "df_spark.printSchema()"
   ]
  },
  {
   "cell_type": "code",
   "execution_count": 86,
   "id": "57d9aed6",
   "metadata": {},
   "outputs": [
    {
     "name": "stdout",
     "output_type": "stream",
     "text": [
      "+------------------+------------------+-------------------+------------------+\n",
      "|Insurance Provider|          avg(Age)|avg(Billing Amount)|  avg(Room Number)|\n",
      "+------------------+------------------+-------------------+------------------+\n",
      "|             Aetna| 51.67506643452763| 25553.294506111477| 300.9522587739393|\n",
      "|        Blue Cross|  51.6948186997016| 25613.011503051057| 298.4379238629171|\n",
      "|          Medicare|51.392684238838086| 25615.990507988507|301.18639053254435|\n",
      "|             Cigna|51.446261889945774| 25525.766314223467|301.81642812694463|\n",
      "|  UnitedHealthcare| 51.49339325842697| 25389.172390383446|303.25393258426965|\n",
      "+------------------+------------------+-------------------+------------------+\n",
      "\n"
     ]
    }
   ],
   "source": [
    "#### Group By & Aggregate ####\n",
    "df_spark.groupBy('Insurance Provider').mean().show()"
   ]
  },
  {
   "cell_type": "code",
   "execution_count": 87,
   "id": "ae29229e",
   "metadata": {},
   "outputs": [
    {
     "name": "stdout",
     "output_type": "stream",
     "text": [
      "+--------------------+-----------------+\n",
      "| sum(Billing Amount)|         avg(Age)|\n",
      "+--------------------+-----------------+\n",
      "|1.4174320433952584E9|51.53945945945946|\n",
      "+--------------------+-----------------+\n",
      "\n"
     ]
    }
   ],
   "source": [
    "df_spark.agg({'Age':'mean', 'Billing Amount':'sum'}).show()"
   ]
  },
  {
   "cell_type": "code",
   "execution_count": 95,
   "id": "c6c161db",
   "metadata": {},
   "outputs": [
    {
     "name": "stdout",
     "output_type": "stream",
     "text": [
      "+------------------+-------------------+\n",
      "|Insurance Provider|min(Billing Amount)|\n",
      "+------------------+-------------------+\n",
      "|             Aetna|-2008.4921398591305|\n",
      "|        Blue Cross|-1660.0093727229796|\n",
      "|          Medicare|-1277.6453371498349|\n",
      "|             Cigna|-1520.4205546121461|\n",
      "|  UnitedHealthcare| -1428.843941366914|\n",
      "+------------------+-------------------+\n",
      "\n"
     ]
    }
   ],
   "source": [
    "df_spark.select(['Insurance Provider', 'Billing Amount']).groupBy('Insurance Provider').min().show()"
   ]
  },
  {
   "cell_type": "code",
   "execution_count": null,
   "id": "456aa5cf",
   "metadata": {},
   "outputs": [],
   "source": []
  },
  {
   "cell_type": "markdown",
   "id": "990bfd5d",
   "metadata": {},
   "source": [
    "### PySpark ML"
   ]
  },
  {
   "cell_type": "code",
   "execution_count": 96,
   "id": "89530145",
   "metadata": {},
   "outputs": [],
   "source": [
    "from pyspark.ml.feature import VectorAssembler"
   ]
  },
  {
   "cell_type": "code",
   "execution_count": 97,
   "id": "eb1c59fe",
   "metadata": {},
   "outputs": [],
   "source": [
    "featureassembler = VectorAssembler(inputCols=['Age', 'Billing Amount'], outputCol='Independent_feature')"
   ]
  },
  {
   "cell_type": "code",
   "execution_count": 99,
   "id": "1de296b2",
   "metadata": {},
   "outputs": [
    {
     "name": "stdout",
     "output_type": "stream",
     "text": [
      "+-------------------+---+------+----------+-----------------+-----------------+----------------+--------------------+------------------+------------------+-----------+--------------+--------------+-----------+------------+--------------------+\n",
      "|               Name|Age|Gender|Blood Type|Medical Condition|Date of Admission|          Doctor|            Hospital|Insurance Provider|    Billing Amount|Room Number|Admission Type|Discharge Date| Medication|Test Results| Independent_feature|\n",
      "+-------------------+---+------+----------+-----------------+-----------------+----------------+--------------------+------------------+------------------+-----------+--------------+--------------+-----------+------------+--------------------+\n",
      "|      Bobby JacksOn| 30|  Male|        B-|           Cancer|       2024-01-31|   Matthew Smith|     Sons and Miller|        Blue Cross|18856.281305978155|        328|        Urgent|    2024-02-02|Paracetamol|      Normal|[30.0,18856.28130...|\n",
      "|       LesLie TErRy| 62|  Male|        A+|          Obesity|       2019-08-20| Samantha Davies|             Kim Inc|          Medicare|33643.327286577885|        265|     Emergency|    2019-08-26|  Ibuprofen|Inconclusive|[62.0,33643.32728...|\n",
      "|        DaNnY sMitH| 76|Female|        A-|          Obesity|       2022-09-22|Tiffany Mitchell|            Cook PLC|             Aetna|27955.096078842456|        205|     Emergency|    2022-10-07|    Aspirin|      Normal|[76.0,27955.09607...|\n",
      "|       andrEw waTtS| 28|Female|        O+|         Diabetes|       2020-11-18|     Kevin Wells|Hernandez Rogers ...|          Medicare| 37909.78240987528|        450|      Elective|    2020-12-18|  Ibuprofen|    Abnormal|[28.0,37909.78240...|\n",
      "|      adrIENNE bEll| 43|Female|       AB+|           Cancer|       2022-09-19|  Kathleen Hanna|         White-White|             Aetna|14238.317813937623|        458|        Urgent|    2022-10-09| Penicillin|    Abnormal|[43.0,14238.31781...|\n",
      "|      EMILY JOHNSOn| 36|  Male|        A+|           Asthma|       2023-12-20|   Taylor Newton|      Nunez-Humphrey|  UnitedHealthcare| 48145.11095104189|        389|        Urgent|    2023-12-24|  Ibuprofen|      Normal|[36.0,48145.11095...|\n",
      "|     edwArD EDWaRDs| 21|Female|       AB-|         Diabetes|       2020-11-03|     Kelly Olson|     Group Middleton|          Medicare| 19580.87234486093|        389|     Emergency|    2020-11-15|Paracetamol|Inconclusive|[21.0,19580.87234...|\n",
      "| CHrisTInA MARtinez| 20|Female|        A+|           Cancer|       2021-12-28|  Suzanne Thomas|Powell Robinson a...|             Cigna| 45820.46272159459|        277|     Emergency|    2022-01-07|Paracetamol|Inconclusive|[20.0,45820.46272...|\n",
      "|    JASmINe aGuIlaR| 82|  Male|       AB+|           Asthma|       2020-07-01| Daniel Ferguson|       Sons Rich and|             Cigna|50119.222791548505|        316|      Elective|    2020-07-14|    Aspirin|    Abnormal|[82.0,50119.22279...|\n",
      "|   ChRISTopher BerG| 58|Female|       AB-|           Cancer|       2021-05-23|     Heather Day|      Padilla-Walker|  UnitedHealthcare| 19784.63106221073|        249|      Elective|    2021-06-22|Paracetamol|Inconclusive|[58.0,19784.63106...|\n",
      "|   mIchElLe daniELs| 72|  Male|        O+|           Cancer|       2020-04-19|     John Duncan|     Schaefer-Porter|          Medicare|12576.795609050234|        394|        Urgent|    2020-04-22|Paracetamol|      Normal|[72.0,12576.79560...|\n",
      "|     aaRon MARtiNeZ| 38|Female|        A-|     Hypertension|       2023-08-13|    Douglas Mayo|         Lyons-Blair|          Medicare| 7999.586879604188|        288|        Urgent|    2023-09-05|    Lipitor|Inconclusive|[38.0,7999.586879...|\n",
      "|      connOR HANsEn| 75|Female|        A+|         Diabetes|       2019-12-12|Kenneth Fletcher|Powers Miller, an...|             Cigna| 43282.28335770435|        134|     Emergency|    2019-12-28| Penicillin|    Abnormal|[75.0,43282.28335...|\n",
      "|       rObeRt bAuer| 68|Female|       AB+|           Asthma|       2020-05-22| Theresa Freeman|    Rivera-Gutierrez|  UnitedHealthcare|33207.706633729606|        309|        Urgent|    2020-06-19|    Lipitor|      Normal|[68.0,33207.70663...|\n",
      "|       bROOkE brady| 44|Female|       AB+|           Cancer|       2021-10-08| Roberta Stewart|     Morris-Arellano|  UnitedHealthcare|40701.599227308754|        182|        Urgent|    2021-10-13|Paracetamol|      Normal|[44.0,40701.59922...|\n",
      "| MS. nAtalIE gAMble| 46|Female|       AB-|          Obesity|       2023-01-01| Maria Dougherty|      Cline-Williams|        Blue Cross|12263.357425021362|        465|      Elective|    2023-01-11|    Aspirin|Inconclusive|[46.0,12263.35742...|\n",
      "|      haley perkins| 63|Female|        A+|        Arthritis|       2020-06-23|   Erica Spencer|     Cervantes-Wells|  UnitedHealthcare|24499.847903736576|        114|      Elective|    2020-07-14|Paracetamol|      Normal|[63.0,24499.84790...|\n",
      "|mRS. jamiE cAMPBELl| 38|  Male|       AB-|          Obesity|       2020-03-08|      Justin Kim|Torres, and Harri...|             Cigna|17440.465444124675|        449|        Urgent|    2020-04-02|Paracetamol|    Abnormal|[38.0,17440.46544...|\n",
      "|       LuKE BuRgEss| 34|Female|        A-|     Hypertension|       2021-03-04|Justin Moore Jr.|         Houston PLC|        Blue Cross| 18843.02301783416|        260|      Elective|    2021-03-14|    Aspirin|    Abnormal|[34.0,18843.02301...|\n",
      "|     dANIEL schmIdt| 63|  Male|        B+|           Asthma|       2022-11-15| Denise Galloway|         Hammond Ltd|             Cigna|23762.203579059587|        465|      Elective|    2022-11-22| Penicillin|      Normal|[63.0,23762.20357...|\n",
      "+-------------------+---+------+----------+-----------------+-----------------+----------------+--------------------+------------------+------------------+-----------+--------------+--------------+-----------+------------+--------------------+\n",
      "only showing top 20 rows\n",
      "\n"
     ]
    }
   ],
   "source": [
    "featureassembler.transform(df_spark).show()"
   ]
  },
  {
   "cell_type": "code",
   "execution_count": null,
   "id": "907f9741",
   "metadata": {},
   "outputs": [],
   "source": []
  }
 ],
 "metadata": {
  "kernelspec": {
   "display_name": ".venv-spark",
   "language": "python",
   "name": "python3"
  },
  "language_info": {
   "codemirror_mode": {
    "name": "ipython",
    "version": 3
   },
   "file_extension": ".py",
   "mimetype": "text/x-python",
   "name": "python",
   "nbconvert_exporter": "python",
   "pygments_lexer": "ipython3",
   "version": "3.13.5"
  }
 },
 "nbformat": 4,
 "nbformat_minor": 5
}
